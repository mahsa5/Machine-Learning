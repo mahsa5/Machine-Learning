{
 "cells": [
  {
   "cell_type": "code",
   "execution_count": null,
   "metadata": {
    "id": "xXRDwp-mHakz"
   },
   "outputs": [],
   "source": [
    "from HodaDatasetReader import read_hoda_cdb, read_hoda_dataset\n",
    "import tensorflow as tf\n",
    "from tensorflow import keras"
   ]
  },
  {
   "cell_type": "code",
   "execution_count": 31,
   "metadata": {
    "id": "ieykcmaOLAsb"
   },
   "outputs": [],
   "source": [
    "X_train, y_train = read_hoda_dataset(dataset_path='Train 60000.cdb',\n",
    "                                images_height=32,\n",
    "                                images_width=32,\n",
    "                                one_hot=False,\n",
    "                                reshape=True)\n",
    " \n",
    "X_test, y_test = read_hoda_dataset(dataset_path='Test 20000.cdb',\n",
    "                              images_height=32,\n",
    "                              images_width=32,\n",
    "                              one_hot=False,\n",
    "                              reshape=True)\n",
    "\n",
    "X_remaining, y_remaining = read_hoda_dataset(dataset_path='RemainingSamples.cdb',\n",
    "                              images_height=32,\n",
    "                              images_width=32,\n",
    "                              one_hot=False,\n",
    "                              reshape=True)"
   ]
  },
  {
   "cell_type": "code",
   "execution_count": 32,
   "metadata": {
    "id": "ndzo9teiZczF"
   },
   "outputs": [],
   "source": [
    "X_train, X_test, X_remaining = X_train / 255., X_test / 255., X_remaining / 255."
   ]
  },
  {
   "cell_type": "code",
   "execution_count": 33,
   "metadata": {
    "colab": {
     "base_uri": "https://localhost:8080/"
    },
    "id": "mJXaxeXYYp8j",
    "outputId": "efb3f927-31fa-40d1-8d25-513296b094e4"
   },
   "outputs": [
    {
     "data": {
      "text/plain": [
       "(60000, 1024)"
      ]
     },
     "execution_count": 33,
     "metadata": {},
     "output_type": "execute_result"
    }
   ],
   "source": [
    "X_train.shape"
   ]
  },
  {
   "cell_type": "code",
   "execution_count": 34,
   "metadata": {
    "colab": {
     "base_uri": "https://localhost:8080/"
    },
    "id": "BezXadhaY41f",
    "outputId": "68c6e0be-31cc-445d-9f14-c1368aa20317"
   },
   "outputs": [
    {
     "data": {
      "text/plain": [
       "(20000, 1024)"
      ]
     },
     "execution_count": 34,
     "metadata": {},
     "output_type": "execute_result"
    }
   ],
   "source": [
    "X_test.shape"
   ]
  },
  {
   "cell_type": "code",
   "execution_count": 35,
   "metadata": {
    "colab": {
     "base_uri": "https://localhost:8080/"
    },
    "id": "W1-WD5gvZCgX",
    "outputId": "38e1b48b-c427-48c1-8878-c137a617e1fd"
   },
   "outputs": [
    {
     "data": {
      "text/plain": [
       "(22352, 1024)"
      ]
     },
     "execution_count": 35,
     "metadata": {},
     "output_type": "execute_result"
    }
   ],
   "source": [
    "X_remaining.shape"
   ]
  },
  {
   "cell_type": "code",
   "execution_count": 40,
   "metadata": {
    "colab": {
     "base_uri": "https://localhost:8080/"
    },
    "id": "7QY_7jVIZCkS",
    "outputId": "960a1f62-9475-4331-f7f6-a92a472bc448"
   },
   "outputs": [
    {
     "data": {
      "text/plain": [
       "(60000, 32, 32)"
      ]
     },
     "execution_count": 40,
     "metadata": {},
     "output_type": "execute_result"
    }
   ],
   "source": [
    "X_train = X_train.reshape(60000,32,32)\n",
    "X_train.shape"
   ]
  },
  {
   "cell_type": "code",
   "execution_count": 41,
   "metadata": {
    "colab": {
     "base_uri": "https://localhost:8080/"
    },
    "id": "rJIs-pM0ZPyO",
    "outputId": "a4f86f8e-cb99-48e6-ae4d-49a03ed73eaf"
   },
   "outputs": [
    {
     "data": {
      "text/plain": [
       "(20000, 32, 32)"
      ]
     },
     "execution_count": 41,
     "metadata": {},
     "output_type": "execute_result"
    }
   ],
   "source": [
    "X_test = X_test.reshape(20000,32,32)\n",
    "X_test.shape"
   ]
  },
  {
   "cell_type": "code",
   "execution_count": 42,
   "metadata": {
    "id": "YmAw4280ZP3D"
   },
   "outputs": [],
   "source": [
    "X_remaining = X_remaining.reshape(22352,32,32)"
   ]
  },
  {
   "cell_type": "code",
   "execution_count": 45,
   "metadata": {
    "id": "O6XcFM6mZP61"
   },
   "outputs": [],
   "source": [
    "inputs = keras.Input(shape=(32, 32, 1))\n",
    "x = keras.layers.Conv2D(filters=32, kernel_size=3, activation=\"relu\")(inputs)\n",
    "x = keras.layers.MaxPooling2D(pool_size=2)(x)\n",
    "x = keras.layers.Conv2D(filters=64, kernel_size=3, activation=\"relu\")(x)\n",
    "x = keras.layers.MaxPooling2D(pool_size=2)(x)\n",
    "x = keras.layers.Conv2D(filters=128, kernel_size=3, activation=\"relu\")(x)\n",
    "x = keras.layers.Flatten()(x)\n",
    "outputs = keras.layers.Dense(10, activation=\"softmax\")(x)\n",
    "model = keras.Model(inputs=inputs, outputs=outputs)\n"
   ]
  },
  {
   "cell_type": "code",
   "execution_count": 46,
   "metadata": {
    "colab": {
     "base_uri": "https://localhost:8080/"
    },
    "id": "ncQ3P5m3ao1Q",
    "outputId": "848fb34f-3692-4788-b7ba-6c427172f6f6"
   },
   "outputs": [
    {
     "name": "stdout",
     "output_type": "stream",
     "text": [
      "Model: \"model_3\"\n",
      "_________________________________________________________________\n",
      " Layer (type)                Output Shape              Param #   \n",
      "=================================================================\n",
      " input_4 (InputLayer)        [(None, 32, 32, 1)]       0         \n",
      "                                                                 \n",
      " conv2d_9 (Conv2D)           (None, 30, 30, 32)        320       \n",
      "                                                                 \n",
      " max_pooling2d_6 (MaxPooling  (None, 15, 15, 32)       0         \n",
      " 2D)                                                             \n",
      "                                                                 \n",
      " conv2d_10 (Conv2D)          (None, 13, 13, 64)        18496     \n",
      "                                                                 \n",
      " max_pooling2d_7 (MaxPooling  (None, 6, 6, 64)         0         \n",
      " 2D)                                                             \n",
      "                                                                 \n",
      " conv2d_11 (Conv2D)          (None, 4, 4, 128)         73856     \n",
      "                                                                 \n",
      " flatten_3 (Flatten)         (None, 2048)              0         \n",
      "                                                                 \n",
      " dense_3 (Dense)             (None, 10)                20490     \n",
      "                                                                 \n",
      "=================================================================\n",
      "Total params: 113,162\n",
      "Trainable params: 113,162\n",
      "Non-trainable params: 0\n",
      "_________________________________________________________________\n"
     ]
    }
   ],
   "source": [
    "model.summary()"
   ]
  },
  {
   "cell_type": "code",
   "execution_count": 48,
   "metadata": {
    "id": "5NgVKynvapJa"
   },
   "outputs": [],
   "source": [
    "model.compile(optimizer='adam',\n",
    "              loss='sparse_categorical_crossentropy',\n",
    "              metrics=['accuracy'])"
   ]
  },
  {
   "cell_type": "code",
   "execution_count": 49,
   "metadata": {
    "colab": {
     "base_uri": "https://localhost:8080/"
    },
    "id": "TD_5DpsXa6nC",
    "outputId": "f76cf6ad-722b-4583-e629-f84eb53845c3"
   },
   "outputs": [
    {
     "name": "stdout",
     "output_type": "stream",
     "text": [
      "Epoch 1/10\n",
      "1407/1407 [==============================] - 67s 47ms/step - loss: 0.3759 - accuracy: 0.8787 - val_loss: 0.1270 - val_accuracy: 0.9625\n",
      "Epoch 2/10\n",
      "1407/1407 [==============================] - 64s 45ms/step - loss: 0.1008 - accuracy: 0.9698 - val_loss: 0.0809 - val_accuracy: 0.9754\n",
      "Epoch 3/10\n",
      "1407/1407 [==============================] - 66s 47ms/step - loss: 0.0761 - accuracy: 0.9776 - val_loss: 0.0713 - val_accuracy: 0.9777\n",
      "Epoch 4/10\n",
      "1407/1407 [==============================] - 65s 46ms/step - loss: 0.0619 - accuracy: 0.9814 - val_loss: 0.0633 - val_accuracy: 0.9807\n",
      "Epoch 5/10\n",
      "1407/1407 [==============================] - 65s 46ms/step - loss: 0.0511 - accuracy: 0.9850 - val_loss: 0.0572 - val_accuracy: 0.9827\n",
      "Epoch 6/10\n",
      "1407/1407 [==============================] - 67s 48ms/step - loss: 0.0428 - accuracy: 0.9871 - val_loss: 0.0474 - val_accuracy: 0.9860\n",
      "Epoch 7/10\n",
      "1407/1407 [==============================] - 65s 46ms/step - loss: 0.0358 - accuracy: 0.9893 - val_loss: 0.0414 - val_accuracy: 0.9869\n",
      "Epoch 8/10\n",
      "1407/1407 [==============================] - 66s 47ms/step - loss: 0.0308 - accuracy: 0.9902 - val_loss: 0.0372 - val_accuracy: 0.9885\n",
      "Epoch 9/10\n",
      "1407/1407 [==============================] - 65s 46ms/step - loss: 0.0264 - accuracy: 0.9915 - val_loss: 0.0329 - val_accuracy: 0.9900\n",
      "Epoch 10/10\n",
      "1407/1407 [==============================] - 67s 48ms/step - loss: 0.0223 - accuracy: 0.9929 - val_loss: 0.0341 - val_accuracy: 0.9901\n"
     ]
    }
   ],
   "source": [
    "history = model.fit(X_train, y_train, batch_size=32, epochs=10, validation_split=0.25)"
   ]
  },
  {
   "cell_type": "code",
   "execution_count": 50,
   "metadata": {
    "colab": {
     "base_uri": "https://localhost:8080/",
     "height": 324
    },
    "id": "hn9alzuKhxrG",
    "outputId": "e79cf7dd-b45c-497f-a80d-c4a086e0e185"
   },
   "outputs": [
    {
     "data": {
      "image/png": "[encoded data removed]",
      "text/plain": [
       "<Figure size 576x360 with 1 Axes>"
      ]
     },
     "metadata": {
      "needs_background": "light"
     },
     "output_type": "display_data"
    }
   ],
   "source": [
    "import pandas as pd\n",
    "import matplotlib.pyplot as plt\n",
    "\n",
    "pd.DataFrame(history.history).plot(figsize=(8, 5))\n",
    "plt.grid(True)\n",
    "plt.gca().set_ylim(0, 1) \n",
    "plt.show()"
   ]
  }
 ],
 "metadata": {
  "colab": {
   "collapsed_sections": [],
   "name": "hoda_cnn.ipynb",
   "provenance": []
  },
  "kernelspec": {
   "display_name": "Python 3 (ipykernel)",
   "language": "python",
   "name": "python3"
  },
  "language_info": {
   "codemirror_mode": {
    "name": "ipython",
    "version": 3
   },
   "file_extension": ".py",
   "mimetype": "text/x-python",
   "name": "python",
   "nbconvert_exporter": "python",
   "pygments_lexer": "ipython3",
   "version": "3.10.4"
  }
 },
 "nbformat": 4,
 "nbformat_minor": 1
}
