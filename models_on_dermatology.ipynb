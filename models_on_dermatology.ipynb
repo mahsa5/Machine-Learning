{
 "cells": [
  {
   "cell_type": "code",
   "execution_count": 1,
   "metadata": {
    "colab": {
     "base_uri": "https://localhost:8080/",
     "height": 73,
     "resources": {
      "http://localhost:8080/nbextensions/google.colab/files.js": {
       "data": "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",
       "headers": [
        [
         "content-type",
         "application/javascript"
        ]
       ],
       "ok": true,
       "status": 200,
       "status_text": ""
      }
     }
    },
    "id": "Xm-FQeviLWwL",
    "outputId": "6dac6dc7-03d8-450f-b232-0fafd56474fa"
   },
   "outputs": [
    {
     "data": {
      "text/html": [
       "\n",
       "     <input type=\"file\" id=\"files-cff07d44-89e3-4426-a074-c1241a75885a\" name=\"files[]\" multiple disabled\n",
       "        style=\"border:none\" />\n",
       "     <output id=\"result-cff07d44-89e3-4426-a074-c1241a75885a\">\n",
       "      Upload widget is only available when the cell has been executed in the\n",
       "      current browser session. Please rerun this cell to enable.\n",
       "      </output>\n",
       "      <script src=\"/nbextensions/google.colab/files.js\"></script> "
      ],
      "text/plain": [
       "<IPython.core.display.HTML object>"
      ]
     },
     "metadata": {},
     "output_type": "display_data"
    },
    {
     "name": "stdout",
     "output_type": "stream",
     "text": [
      "Saving dermatology.csv to dermatology.csv\n"
     ]
    }
   ],
   "source": [
    "from google.colab import files\n",
    "uploaded = files.upload()"
   ]
  },
  {
   "cell_type": "code",
   "execution_count": 2,
   "metadata": {
    "id": "tOdYpo_zLaal"
   },
   "outputs": [],
   "source": [
    "import io\n",
    "import pandas as pd\n",
    "derma = pd.read_csv(io.BytesIO(uploaded['dermatology.csv']))"
   ]
  },
  {
   "cell_type": "code",
   "execution_count": 3,
   "metadata": {
    "colab": {
     "base_uri": "https://localhost:8080/",
     "height": 317
    },
    "id": "TgDK-wmpOukj",
    "outputId": "b094c7ab-cbed-41e2-9802-4fbb6ac9f1b8"
   },
   "outputs": [
    {
     "data": {
      "text/html": [
       "\n",
       "  <div id=\"df-8065e1d3-4512-464a-9a21-0fe2b13ead4e\">\n",
       "    <div class=\"colab-df-container\">\n",
       "      <div>\n",
       "<style scoped>\n",
       "    .dataframe tbody tr th:only-of-type {\n",
       "        vertical-align: middle;\n",
       "    }\n",
       "\n",
       "    .dataframe tbody tr th {\n",
       "        vertical-align: top;\n",
       "    }\n",
       "\n",
       "    .dataframe thead th {\n",
       "        text-align: right;\n",
       "    }\n",
       "</style>\n",
       "<table border=\"1\" class=\"dataframe\">\n",
       "  <thead>\n",
       "    <tr style=\"text-align: right;\">\n",
       "      <th></th>\n",
       "      <th>erythema</th>\n",
       "      <th>scaling</th>\n",
       "      <th>definite_borders</th>\n",
       "      <th>itching</th>\n",
       "      <th>koebner_phenomenon</th>\n",
       "      <th>polygonal_papules</th>\n",
       "      <th>follicular_papules</th>\n",
       "      <th>oral_mucosal_involvement</th>\n",
       "      <th>knee_and_elbow_involvement</th>\n",
       "      <th>scalp_involvement</th>\n",
       "      <th>...</th>\n",
       "      <th>disappearance_of_the_granular_layer</th>\n",
       "      <th>vacuolisation_and_damage_of_basal_layer</th>\n",
       "      <th>spongiosis</th>\n",
       "      <th>saw-tooth_appearance_of_retes</th>\n",
       "      <th>follicular_horn_plug</th>\n",
       "      <th>perifollicular_parakeratosis</th>\n",
       "      <th>inflammatory_monoluclear_inflitrate</th>\n",
       "      <th>band-like_infiltrate</th>\n",
       "      <th>age</th>\n",
       "      <th>class</th>\n",
       "    </tr>\n",
       "  </thead>\n",
       "  <tbody>\n",
       "    <tr>\n",
       "      <th>0</th>\n",
       "      <td>2</td>\n",
       "      <td>2</td>\n",
       "      <td>0</td>\n",
       "      <td>3</td>\n",
       "      <td>0</td>\n",
       "      <td>0</td>\n",
       "      <td>0</td>\n",
       "      <td>0</td>\n",
       "      <td>1</td>\n",
       "      <td>0</td>\n",
       "      <td>...</td>\n",
       "      <td>0</td>\n",
       "      <td>0</td>\n",
       "      <td>3</td>\n",
       "      <td>0</td>\n",
       "      <td>0</td>\n",
       "      <td>0</td>\n",
       "      <td>1</td>\n",
       "      <td>0</td>\n",
       "      <td>55.0</td>\n",
       "      <td>2</td>\n",
       "    </tr>\n",
       "    <tr>\n",
       "      <th>1</th>\n",
       "      <td>3</td>\n",
       "      <td>3</td>\n",
       "      <td>3</td>\n",
       "      <td>2</td>\n",
       "      <td>1</td>\n",
       "      <td>0</td>\n",
       "      <td>0</td>\n",
       "      <td>0</td>\n",
       "      <td>1</td>\n",
       "      <td>1</td>\n",
       "      <td>...</td>\n",
       "      <td>0</td>\n",
       "      <td>0</td>\n",
       "      <td>0</td>\n",
       "      <td>0</td>\n",
       "      <td>0</td>\n",
       "      <td>0</td>\n",
       "      <td>1</td>\n",
       "      <td>0</td>\n",
       "      <td>8.0</td>\n",
       "      <td>1</td>\n",
       "    </tr>\n",
       "    <tr>\n",
       "      <th>2</th>\n",
       "      <td>2</td>\n",
       "      <td>1</td>\n",
       "      <td>2</td>\n",
       "      <td>3</td>\n",
       "      <td>1</td>\n",
       "      <td>3</td>\n",
       "      <td>0</td>\n",
       "      <td>3</td>\n",
       "      <td>0</td>\n",
       "      <td>0</td>\n",
       "      <td>...</td>\n",
       "      <td>0</td>\n",
       "      <td>2</td>\n",
       "      <td>3</td>\n",
       "      <td>2</td>\n",
       "      <td>0</td>\n",
       "      <td>0</td>\n",
       "      <td>2</td>\n",
       "      <td>3</td>\n",
       "      <td>26.0</td>\n",
       "      <td>3</td>\n",
       "    </tr>\n",
       "    <tr>\n",
       "      <th>3</th>\n",
       "      <td>2</td>\n",
       "      <td>2</td>\n",
       "      <td>2</td>\n",
       "      <td>0</td>\n",
       "      <td>0</td>\n",
       "      <td>0</td>\n",
       "      <td>0</td>\n",
       "      <td>0</td>\n",
       "      <td>3</td>\n",
       "      <td>2</td>\n",
       "      <td>...</td>\n",
       "      <td>3</td>\n",
       "      <td>0</td>\n",
       "      <td>0</td>\n",
       "      <td>0</td>\n",
       "      <td>0</td>\n",
       "      <td>0</td>\n",
       "      <td>3</td>\n",
       "      <td>0</td>\n",
       "      <td>40.0</td>\n",
       "      <td>1</td>\n",
       "    </tr>\n",
       "    <tr>\n",
       "      <th>4</th>\n",
       "      <td>2</td>\n",
       "      <td>3</td>\n",
       "      <td>2</td>\n",
       "      <td>2</td>\n",
       "      <td>2</td>\n",
       "      <td>2</td>\n",
       "      <td>0</td>\n",
       "      <td>2</td>\n",
       "      <td>0</td>\n",
       "      <td>0</td>\n",
       "      <td>...</td>\n",
       "      <td>2</td>\n",
       "      <td>3</td>\n",
       "      <td>2</td>\n",
       "      <td>3</td>\n",
       "      <td>0</td>\n",
       "      <td>0</td>\n",
       "      <td>2</td>\n",
       "      <td>3</td>\n",
       "      <td>45.0</td>\n",
       "      <td>3</td>\n",
       "    </tr>\n",
       "  </tbody>\n",
       "</table>\n",
       "<p>5 rows × 35 columns</p>\n",
       "</div>\n",
       "      <button class=\"colab-df-convert\" onclick=\"convertToInteractive('df-8065e1d3-4512-464a-9a21-0fe2b13ead4e')\"\n",
       "              title=\"Convert this dataframe to an interactive table.\"\n",
       "              style=\"display:none;\">\n",
       "        \n",
       "  <svg xmlns=\"http://www.w3.org/2000/svg\" height=\"24px\"viewBox=\"0 0 24 24\"\n",
       "       width=\"24px\">\n",
       "    <path d=\"M0 0h24v24H0V0z\" fill=\"none\"/>\n",
       "    <path d=\"M18.56 5.44l.94 2.06.94-2.06 2.06-.94-2.06-.94-.94-2.06-.94 2.06-2.06.94zm-11 1L8.5 8.5l.94-2.06 2.06-.94-2.06-.94L8.5 2.5l-.94 2.06-2.06.94zm10 10l.94 2.06.94-2.06 2.06-.94-2.06-.94-.94-2.06-.94 2.06-2.06.94z\"/><path d=\"M17.41 7.96l-1.37-1.37c-.4-.4-.92-.59-1.43-.59-.52 0-1.04.2-1.43.59L10.3 9.45l-7.72 7.72c-.78.78-.78 2.05 0 2.83L4 21.41c.39.39.9.59 1.41.59.51 0 1.02-.2 1.41-.59l7.78-7.78 2.81-2.81c.8-.78.8-2.07 0-2.86zM5.41 20L4 18.59l7.72-7.72 1.47 1.35L5.41 20z\"/>\n",
       "  </svg>\n",
       "      </button>\n",
       "      \n",
       "  <style>\n",
       "    .colab-df-container {\n",
       "      display:flex;\n",
       "      flex-wrap:wrap;\n",
       "      gap: 12px;\n",
       "    }\n",
       "\n",
       "    .colab-df-convert {\n",
       "      background-color: #E8F0FE;\n",
       "      border: none;\n",
       "      border-radius: 50%;\n",
       "      cursor: pointer;\n",
       "      display: none;\n",
       "      fill: #1967D2;\n",
       "      height: 32px;\n",
       "      padding: 0 0 0 0;\n",
       "      width: 32px;\n",
       "    }\n",
       "\n",
       "    .colab-df-convert:hover {\n",
       "      background-color: #E2EBFA;\n",
       "      box-shadow: 0px 1px 2px rgba(60, 64, 67, 0.3), 0px 1px 3px 1px rgba(60, 64, 67, 0.15);\n",
       "      fill: #174EA6;\n",
       "    }\n",
       "\n",
       "    [theme=dark] .colab-df-convert {\n",
       "      background-color: #3B4455;\n",
       "      fill: #D2E3FC;\n",
       "    }\n",
       "\n",
       "    [theme=dark] .colab-df-convert:hover {\n",
       "      background-color: #434B5C;\n",
       "      box-shadow: 0px 1px 3px 1px rgba(0, 0, 0, 0.15);\n",
       "      filter: drop-shadow(0px 1px 2px rgba(0, 0, 0, 0.3));\n",
       "      fill: #FFFFFF;\n",
       "    }\n",
       "  </style>\n",
       "\n",
       "      <script>\n",
       "        const buttonEl =\n",
       "          document.querySelector('#df-8065e1d3-4512-464a-9a21-0fe2b13ead4e button.colab-df-convert');\n",
       "        buttonEl.style.display =\n",
       "          google.colab.kernel.accessAllowed ? 'block' : 'none';\n",
       "\n",
       "        async function convertToInteractive(key) {\n",
       "          const element = document.querySelector('#df-8065e1d3-4512-464a-9a21-0fe2b13ead4e');\n",
       "          const dataTable =\n",
       "            await google.colab.kernel.invokeFunction('convertToInteractive',\n",
       "                                                     [key], {});\n",
       "          if (!dataTable) return;\n",
       "\n",
       "          const docLinkHtml = 'Like what you see? Visit the ' +\n",
       "            '<a target=\"_blank\" href=https://colab.research.google.com/notebooks/data_table.ipynb>data table notebook</a>'\n",
       "            + ' to learn more about interactive tables.';\n",
       "          element.innerHTML = '';\n",
       "          dataTable['output_type'] = 'display_data';\n",
       "          await google.colab.output.renderOutput(dataTable, element);\n",
       "          const docLink = document.createElement('div');\n",
       "          docLink.innerHTML = docLinkHtml;\n",
       "          element.appendChild(docLink);\n",
       "        }\n",
       "      </script>\n",
       "    </div>\n",
       "  </div>\n",
       "  "
      ],
      "text/plain": [
       "   erythema  scaling  definite_borders  itching  koebner_phenomenon  \\\n",
       "0         2        2                 0        3                   0   \n",
       "1         3        3                 3        2                   1   \n",
       "2         2        1                 2        3                   1   \n",
       "3         2        2                 2        0                   0   \n",
       "4         2        3                 2        2                   2   \n",
       "\n",
       "   polygonal_papules  follicular_papules  oral_mucosal_involvement  \\\n",
       "0                  0                   0                         0   \n",
       "1                  0                   0                         0   \n",
       "2                  3                   0                         3   \n",
       "3                  0                   0                         0   \n",
       "4                  2                   0                         2   \n",
       "\n",
       "   knee_and_elbow_involvement  scalp_involvement  ...  \\\n",
       "0                           1                  0  ...   \n",
       "1                           1                  1  ...   \n",
       "2                           0                  0  ...   \n",
       "3                           3                  2  ...   \n",
       "4                           0                  0  ...   \n",
       "\n",
       "   disappearance_of_the_granular_layer  \\\n",
       "0                                    0   \n",
       "1                                    0   \n",
       "2                                    0   \n",
       "3                                    3   \n",
       "4                                    2   \n",
       "\n",
       "   vacuolisation_and_damage_of_basal_layer  spongiosis  \\\n",
       "0                                        0           3   \n",
       "1                                        0           0   \n",
       "2                                        2           3   \n",
       "3                                        0           0   \n",
       "4                                        3           2   \n",
       "\n",
       "   saw-tooth_appearance_of_retes  follicular_horn_plug  \\\n",
       "0                              0                     0   \n",
       "1                              0                     0   \n",
       "2                              2                     0   \n",
       "3                              0                     0   \n",
       "4                              3                     0   \n",
       "\n",
       "   perifollicular_parakeratosis  inflammatory_monoluclear_inflitrate  \\\n",
       "0                             0                                    1   \n",
       "1                             0                                    1   \n",
       "2                             0                                    2   \n",
       "3                             0                                    3   \n",
       "4                             0                                    2   \n",
       "\n",
       "   band-like_infiltrate   age  class  \n",
       "0                     0  55.0      2  \n",
       "1                     0   8.0      1  \n",
       "2                     3  26.0      3  \n",
       "3                     0  40.0      1  \n",
       "4                     3  45.0      3  \n",
       "\n",
       "[5 rows x 35 columns]"
      ]
     },
     "execution_count": 3,
     "metadata": {},
     "output_type": "execute_result"
    }
   ],
   "source": [
    "derma.head()"
   ]
  },
  {
   "cell_type": "code",
   "execution_count": 4,
   "metadata": {
    "colab": {
     "base_uri": "https://localhost:8080/"
    },
    "id": "sILZGjjbOunJ",
    "outputId": "ba03f337-fcf3-4aff-9adc-b9575d00e78d"
   },
   "outputs": [
    {
     "data": {
      "text/plain": [
       "(366, 35)"
      ]
     },
     "execution_count": 4,
     "metadata": {},
     "output_type": "execute_result"
    }
   ],
   "source": [
    "derma.shape"
   ]
  },
  {
   "cell_type": "code",
   "execution_count": 5,
   "metadata": {
    "colab": {
     "base_uri": "https://localhost:8080/"
    },
    "id": "iG9e3DwOOupp",
    "outputId": "e54c7c3f-bf23-4832-b0a1-ef767ceea433"
   },
   "outputs": [
    {
     "name": "stdout",
     "output_type": "stream",
     "text": [
      "<class 'pandas.core.frame.DataFrame'>\n",
      "RangeIndex: 366 entries, 0 to 365\n",
      "Data columns (total 35 columns):\n",
      " #   Column                                    Non-Null Count  Dtype  \n",
      "---  ------                                    --------------  -----  \n",
      " 0   erythema                                  366 non-null    int64  \n",
      " 1   scaling                                   366 non-null    int64  \n",
      " 2   definite_borders                          366 non-null    int64  \n",
      " 3   itching                                   366 non-null    int64  \n",
      " 4   koebner_phenomenon                        366 non-null    int64  \n",
      " 5   polygonal_papules                         366 non-null    int64  \n",
      " 6   follicular_papules                        366 non-null    int64  \n",
      " 7   oral_mucosal_involvement                  366 non-null    int64  \n",
      " 8   knee_and_elbow_involvement                366 non-null    int64  \n",
      " 9   scalp_involvement                         366 non-null    int64  \n",
      " 10  family_history                            366 non-null    int64  \n",
      " 11  melanin_incontinence                      366 non-null    int64  \n",
      " 12  eosinophils_in_the_infiltrate             366 non-null    int64  \n",
      " 13  pnl_infiltrate                            366 non-null    int64  \n",
      " 14  fibrosis_of_the_papillary_dermis          366 non-null    int64  \n",
      " 15  exocytosis                                366 non-null    int64  \n",
      " 16  acanthosis                                366 non-null    int64  \n",
      " 17  hyperkeratosis                            366 non-null    int64  \n",
      " 18  parakeratosis                             366 non-null    int64  \n",
      " 19  clubbing_of_the_rete_ridges               366 non-null    int64  \n",
      " 20  elongation_of_the_rete_ridges             366 non-null    int64  \n",
      " 21  thinning_of_the_suprapapillary_epidermis  366 non-null    int64  \n",
      " 22  spongiform_pustule                        366 non-null    int64  \n",
      " 23  munro_microabcess                         366 non-null    int64  \n",
      " 24  focal_hypergranulosis                     366 non-null    int64  \n",
      " 25  disappearance_of_the_granular_layer       366 non-null    int64  \n",
      " 26  vacuolisation_and_damage_of_basal_layer   366 non-null    int64  \n",
      " 27  spongiosis                                366 non-null    int64  \n",
      " 28  saw-tooth_appearance_of_retes             366 non-null    int64  \n",
      " 29  follicular_horn_plug                      366 non-null    int64  \n",
      " 30  perifollicular_parakeratosis              366 non-null    int64  \n",
      " 31  inflammatory_monoluclear_inflitrate       366 non-null    int64  \n",
      " 32  band-like_infiltrate                      366 non-null    int64  \n",
      " 33  age                                       358 non-null    float64\n",
      " 34  class                                     366 non-null    int64  \n",
      "dtypes: float64(1), int64(34)\n",
      "memory usage: 100.2 KB\n"
     ]
    }
   ],
   "source": [
    "derma.info()"
   ]
  },
  {
   "cell_type": "code",
   "execution_count": 6,
   "metadata": {
    "colab": {
     "base_uri": "https://localhost:8080/"
    },
    "id": "wq6KgmQIOusL",
    "outputId": "c5842fc0-20d5-41ce-a5e8-136de1b785d8"
   },
   "outputs": [
    {
     "data": {
      "text/plain": [
       "erythema                                    0\n",
       "scaling                                     0\n",
       "definite_borders                            0\n",
       "itching                                     0\n",
       "koebner_phenomenon                          0\n",
       "polygonal_papules                           0\n",
       "follicular_papules                          0\n",
       "oral_mucosal_involvement                    0\n",
       "knee_and_elbow_involvement                  0\n",
       "scalp_involvement                           0\n",
       "family_history                              0\n",
       "melanin_incontinence                        0\n",
       "eosinophils_in_the_infiltrate               0\n",
       "pnl_infiltrate                              0\n",
       "fibrosis_of_the_papillary_dermis            0\n",
       "exocytosis                                  0\n",
       "acanthosis                                  0\n",
       "hyperkeratosis                              0\n",
       "parakeratosis                               0\n",
       "clubbing_of_the_rete_ridges                 0\n",
       "elongation_of_the_rete_ridges               0\n",
       "thinning_of_the_suprapapillary_epidermis    0\n",
       "spongiform_pustule                          0\n",
       "munro_microabcess                           0\n",
       "focal_hypergranulosis                       0\n",
       "disappearance_of_the_granular_layer         0\n",
       "vacuolisation_and_damage_of_basal_layer     0\n",
       "spongiosis                                  0\n",
       "saw-tooth_appearance_of_retes               0\n",
       "follicular_horn_plug                        0\n",
       "perifollicular_parakeratosis                0\n",
       "inflammatory_monoluclear_inflitrate         0\n",
       "band-like_infiltrate                        0\n",
       "age                                         8\n",
       "class                                       0\n",
       "dtype: int64"
      ]
     },
     "execution_count": 6,
     "metadata": {},
     "output_type": "execute_result"
    }
   ],
   "source": [
    "derma.isnull().sum()"
   ]
  },
  {
   "cell_type": "code",
   "execution_count": 7,
   "metadata": {
    "id": "wRv9uks-Ouuh"
   },
   "outputs": [],
   "source": [
    "median = derma[\"age\"].median()  \n",
    "derma[\"age\"].fillna(median, inplace=True)"
   ]
  },
  {
   "cell_type": "code",
   "execution_count": 8,
   "metadata": {
    "colab": {
     "base_uri": "https://localhost:8080/"
    },
    "id": "Y3dy_kU9IRiH",
    "outputId": "3c18caf1-f811-4d8d-a78d-7797e132a1e0"
   },
   "outputs": [
    {
     "data": {
      "text/plain": [
       "0"
      ]
     },
     "execution_count": 8,
     "metadata": {},
     "output_type": "execute_result"
    }
   ],
   "source": [
    "derma['age'].isnull().sum()"
   ]
  },
  {
   "cell_type": "code",
   "execution_count": 9,
   "metadata": {
    "colab": {
     "base_uri": "https://localhost:8080/"
    },
    "id": "fOwMXR5OOuxM",
    "outputId": "934c8724-6d00-4490-e55c-ad6df16abc94"
   },
   "outputs": [
    {
     "data": {
      "text/plain": [
       "erythema                                     4\n",
       "scaling                                      4\n",
       "definite_borders                             4\n",
       "itching                                      4\n",
       "koebner_phenomenon                           4\n",
       "polygonal_papules                            4\n",
       "follicular_papules                           4\n",
       "oral_mucosal_involvement                     4\n",
       "knee_and_elbow_involvement                   4\n",
       "scalp_involvement                            4\n",
       "family_history                               2\n",
       "melanin_incontinence                         4\n",
       "eosinophils_in_the_infiltrate                3\n",
       "pnl_infiltrate                               4\n",
       "fibrosis_of_the_papillary_dermis             4\n",
       "exocytosis                                   4\n",
       "acanthosis                                   4\n",
       "hyperkeratosis                               4\n",
       "parakeratosis                                4\n",
       "clubbing_of_the_rete_ridges                  4\n",
       "elongation_of_the_rete_ridges                4\n",
       "thinning_of_the_suprapapillary_epidermis     4\n",
       "spongiform_pustule                           4\n",
       "munro_microabcess                            4\n",
       "focal_hypergranulosis                        4\n",
       "disappearance_of_the_granular_layer          4\n",
       "vacuolisation_and_damage_of_basal_layer      4\n",
       "spongiosis                                   4\n",
       "saw-tooth_appearance_of_retes                4\n",
       "follicular_horn_plug                         4\n",
       "perifollicular_parakeratosis                 4\n",
       "inflammatory_monoluclear_inflitrate          4\n",
       "band-like_infiltrate                         4\n",
       "age                                         60\n",
       "class                                        6\n",
       "dtype: int64"
      ]
     },
     "execution_count": 9,
     "metadata": {},
     "output_type": "execute_result"
    }
   ],
   "source": [
    "derma.nunique()"
   ]
  },
  {
   "cell_type": "code",
   "execution_count": 10,
   "metadata": {
    "colab": {
     "base_uri": "https://localhost:8080/"
    },
    "id": "lNpYBMwoOuzV",
    "outputId": "1283000a-900c-42e0-93dc-11cb38783b02"
   },
   "outputs": [
    {
     "data": {
      "text/plain": [
       "1    112\n",
       "3     72\n",
       "2     61\n",
       "5     52\n",
       "4     49\n",
       "6     20\n",
       "Name: class, dtype: int64"
      ]
     },
     "execution_count": 10,
     "metadata": {},
     "output_type": "execute_result"
    }
   ],
   "source": [
    "derma['class'].value_counts()"
   ]
  },
  {
   "cell_type": "code",
   "execution_count": 11,
   "metadata": {
    "colab": {
     "base_uri": "https://localhost:8080/",
     "height": 731
    },
    "id": "T3uqyRRaOu1z",
    "outputId": "bd9c952b-1e42-4cd4-be20-546e169e0e22"
   },
   "outputs": [
    {
     "data": {
      "text/plain": [
       "<matplotlib.axes._subplots.AxesSubplot at 0x7f4cf11d2fd0>"
      ]
     },
     "execution_count": 11,
     "metadata": {},
     "output_type": "execute_result"
    },
    {
     "data": {
      "image/png": "[encoded data removed]",
      "text/plain": [
       "<Figure size 1080x576 with 2 Axes>"
      ]
     },
     "metadata": {},
     "output_type": "display_data"
    }
   ],
   "source": [
    "import seaborn as sns\n",
    "\n",
    "sns.set(rc = {'figure.figsize':(15,8)})\n",
    "sns.heatmap(derma.corr())"
   ]
  },
  {
   "cell_type": "code",
   "execution_count": 12,
   "metadata": {
    "id": "4qT4m8vDLgfp"
   },
   "outputs": [],
   "source": [
    "X = derma.iloc[: , :-1].values\n",
    "y = derma.iloc[: , -1].values"
   ]
  },
  {
   "cell_type": "code",
   "execution_count": 13,
   "metadata": {
    "id": "iW_z7tYQLsNy"
   },
   "outputs": [],
   "source": [
    "from sklearn.model_selection import train_test_split\n",
    "\n",
    "X_train, X_test, y_train, y_test = train_test_split(X, y, test_size=0.2, random_state=42)"
   ]
  },
  {
   "cell_type": "markdown",
   "metadata": {
    "id": "-JZwxtf--hKf"
   },
   "source": [
    "# PCA"
   ]
  },
  {
   "cell_type": "code",
   "execution_count": 14,
   "metadata": {
    "id": "2mDCJJS7qB57"
   },
   "outputs": [],
   "source": [
    "from sklearn.decomposition import PCA\n",
    "\n",
    "pca = PCA(n_components=0.95)\n",
    "X_reduced = pca.fit_transform(X_train)"
   ]
  },
  {
   "cell_type": "markdown",
   "metadata": {
    "id": "3N8dKV9dsV3Z"
   },
   "source": [
    "# SVC"
   ]
  },
  {
   "cell_type": "code",
   "execution_count": 16,
   "metadata": {
    "colab": {
     "base_uri": "https://localhost:8080/"
    },
    "id": "coO3B5NpqZB8",
    "outputId": "c25b8382-4e9d-4ca3-994f-8bacb15f2010"
   },
   "outputs": [
    {
     "data": {
      "text/plain": [
       "Pipeline(steps=[('standardscaler', StandardScaler()),\n",
       "                ('svc', SVC(random_state=42))])"
      ]
     },
     "execution_count": 16,
     "metadata": {},
     "output_type": "execute_result"
    }
   ],
   "source": [
    "from sklearn.svm import SVC\n",
    "from sklearn.pipeline import make_pipeline\n",
    "from sklearn.preprocessing import StandardScaler\n",
    "\n",
    "svm_clf = make_pipeline(StandardScaler(), SVC(random_state=42))\n",
    "svm_clf.fit(X_train, y_train)"
   ]
  },
  {
   "cell_type": "code",
   "execution_count": 17,
   "metadata": {
    "id": "yKJt6wdfq26L"
   },
   "outputs": [],
   "source": [
    "y_pred = svm_clf.predict(X_test)"
   ]
  },
  {
   "cell_type": "code",
   "execution_count": 41,
   "metadata": {
    "colab": {
     "base_uri": "https://localhost:8080/"
    },
    "id": "G_XElih9rBzX",
    "outputId": "7ccf76ab-db18-41f8-9613-6cfbce4ac37c"
   },
   "outputs": [
    {
     "data": {
      "text/plain": [
       "0.99"
      ]
     },
     "execution_count": 41,
     "metadata": {},
     "output_type": "execute_result"
    }
   ],
   "source": [
    "from sklearn.metrics import accuracy_score\n",
    "\n",
    "accuracy_svm_clf = accuracy_score(y_test, y_pred)\n",
    "accuracy_svm_clf.round(2)"
   ]
  },
  {
   "cell_type": "code",
   "execution_count": 20,
   "metadata": {
    "id": "HjSvtDE-rTma"
   },
   "outputs": [],
   "source": [
    "svm_clf_pca = svm_clf.fit(X_reduced, y_train)"
   ]
  },
  {
   "cell_type": "code",
   "execution_count": 22,
   "metadata": {
    "id": "Zt85TqR2rkPT"
   },
   "outputs": [],
   "source": [
    "X_test_reduced = pca.transform(X_test)\n",
    "y_pred_pca = svm_clf_pca.predict(X_test_reduced)"
   ]
  },
  {
   "cell_type": "code",
   "execution_count": 40,
   "metadata": {
    "colab": {
     "base_uri": "https://localhost:8080/"
    },
    "id": "yDxgZWk5r-J4",
    "outputId": "4a0350f2-b483-4b31-eeeb-41672ed582ab"
   },
   "outputs": [
    {
     "data": {
      "text/plain": [
       "0.65"
      ]
     },
     "execution_count": 40,
     "metadata": {},
     "output_type": "execute_result"
    }
   ],
   "source": [
    "accuracy_svm_clf_pca = accuracy_score(y_test, y_pred_pca)\n",
    "accuracy_svm_clf_pca.round(2) #it seems work better without pca"
   ]
  },
  {
   "cell_type": "markdown",
   "metadata": {
    "id": "3mMP0XzyukMn"
   },
   "source": [
    "# KNN"
   ]
  },
  {
   "cell_type": "code",
   "execution_count": 28,
   "metadata": {
    "colab": {
     "base_uri": "https://localhost:8080/"
    },
    "id": "n6Os_yeEszt_",
    "outputId": "00fcf8ce-55ec-498e-ceb4-4e58d6444bf0"
   },
   "outputs": [
    {
     "data": {
      "text/plain": [
       "KNeighborsClassifier(n_neighbors=3)"
      ]
     },
     "execution_count": 28,
     "metadata": {},
     "output_type": "execute_result"
    }
   ],
   "source": [
    "from sklearn.neighbors import KNeighborsClassifier\n",
    "\n",
    "knn_clf = KNeighborsClassifier(n_neighbors=3)\n",
    "knn_clf.fit(X_train, y_train)"
   ]
  },
  {
   "cell_type": "code",
   "execution_count": 29,
   "metadata": {
    "id": "_lADNKSstt4W"
   },
   "outputs": [],
   "source": [
    "y_pred = knn_clf.predict(X_test)"
   ]
  },
  {
   "cell_type": "code",
   "execution_count": 39,
   "metadata": {
    "colab": {
     "base_uri": "https://localhost:8080/"
    },
    "id": "MRkq9SHptwgC",
    "outputId": "63680c10-e0e7-4b0c-fcf8-25eb61d61df0"
   },
   "outputs": [
    {
     "data": {
      "text/plain": [
       "0.99"
      ]
     },
     "execution_count": 39,
     "metadata": {},
     "output_type": "execute_result"
    }
   ],
   "source": [
    "accuracy_knn_clf = accuracy_score(y_test, y_pred)\n",
    "accuracy_knn_clf.round(2)"
   ]
  },
  {
   "cell_type": "code",
   "execution_count": 31,
   "metadata": {
    "id": "jRK5GvocuAzE"
   },
   "outputs": [],
   "source": [
    "knn_clf_pca = knn_clf.fit(X_reduced, y_train)"
   ]
  },
  {
   "cell_type": "code",
   "execution_count": 32,
   "metadata": {
    "id": "7EjEia3LuLI-"
   },
   "outputs": [],
   "source": [
    "y_pred_pca = knn_clf_pca.predict(X_test_reduced)"
   ]
  },
  {
   "cell_type": "code",
   "execution_count": 38,
   "metadata": {
    "colab": {
     "base_uri": "https://localhost:8080/"
    },
    "id": "q0clFFE9uSIw",
    "outputId": "4aedb955-5514-4a16-f672-53c6cdc70abf"
   },
   "outputs": [
    {
     "data": {
      "text/plain": [
       "0.65"
      ]
     },
     "execution_count": 38,
     "metadata": {},
     "output_type": "execute_result"
    }
   ],
   "source": [
    "accuracy_knn_clf_pca = accuracy_score(y_test, y_pred_pca)\n",
    "accuracy_knn_clf_pca.round(2) #knn fits better without pca"
   ]
  },
  {
   "cell_type": "markdown",
   "metadata": {
    "id": "dKtMVv2zv37m"
   },
   "source": [
    "# Random Forest"
   ]
  },
  {
   "cell_type": "code",
   "execution_count": 34,
   "metadata": {
    "colab": {
     "base_uri": "https://localhost:8080/"
    },
    "id": "ISWFAIAbuimV",
    "outputId": "1698169e-434e-4f87-c568-33e65ad6d1cd"
   },
   "outputs": [
    {
     "data": {
      "text/plain": [
       "RandomForestClassifier(max_leaf_nodes=16, n_estimators=500, n_jobs=-1,\n",
       "                       random_state=42)"
      ]
     },
     "execution_count": 34,
     "metadata": {},
     "output_type": "execute_result"
    }
   ],
   "source": [
    "from sklearn.ensemble import RandomForestClassifier\n",
    "\n",
    "rnd_clf = RandomForestClassifier(n_estimators=500, max_leaf_nodes=16, n_jobs=-1, random_state=42)\n",
    "rnd_clf.fit(X_train, y_train)"
   ]
  },
  {
   "cell_type": "code",
   "execution_count": 35,
   "metadata": {
    "id": "A0oQf3v_u0ce"
   },
   "outputs": [],
   "source": [
    "y_pred = rnd_clf.predict(X_test)"
   ]
  },
  {
   "cell_type": "code",
   "execution_count": 37,
   "metadata": {
    "colab": {
     "base_uri": "https://localhost:8080/"
    },
    "id": "2-FTAkywu4Y8",
    "outputId": "5a449e2b-ed8c-4175-f204-1fe9d12beadc"
   },
   "outputs": [
    {
     "data": {
      "text/plain": [
       "0.99"
      ]
     },
     "execution_count": 37,
     "metadata": {},
     "output_type": "execute_result"
    }
   ],
   "source": [
    "accuracy_rnd_clf = accuracy_score(y_test, y_pred)\n",
    "accuracy_rnd_clf.round(2)"
   ]
  },
  {
   "cell_type": "code",
   "execution_count": 42,
   "metadata": {
    "id": "pqnUxxn1vlxH"
   },
   "outputs": [],
   "source": [
    "rnd_clf_pca = rnd_clf.fit(X_reduced, y_train)"
   ]
  },
  {
   "cell_type": "code",
   "execution_count": 43,
   "metadata": {
    "id": "mz7ZkJiTv1Lm"
   },
   "outputs": [],
   "source": [
    "y_pred_pca = rnd_clf_pca.predict(X_test_reduced)"
   ]
  },
  {
   "cell_type": "code",
   "execution_count": 44,
   "metadata": {
    "colab": {
     "base_uri": "https://localhost:8080/"
    },
    "id": "JUu4mGPQwGMR",
    "outputId": "e51ba78b-d6ac-49c6-de1b-2c5629c913af"
   },
   "outputs": [
    {
     "data": {
      "text/plain": [
       "0.8"
      ]
     },
     "execution_count": 44,
     "metadata": {},
     "output_type": "execute_result"
    }
   ],
   "source": [
    "accuracy_rnd_clf_pca = accuracy_score(y_test, y_pred_pca)\n",
    "accuracy_rnd_clf_pca.round(2) #it is not too bad with pca"
   ]
  },
  {
   "cell_type": "markdown",
   "metadata": {
    "id": "wEzGz2adyjV7"
   },
   "source": [
    "# SGD"
   ]
  },
  {
   "cell_type": "code",
   "execution_count": 48,
   "metadata": {
    "colab": {
     "base_uri": "https://localhost:8080/"
    },
    "id": "7y6MqpjYx6bq",
    "outputId": "b05c1221-1323-470e-95ae-7086275cd24b"
   },
   "outputs": [
    {
     "data": {
      "text/plain": [
       "SGDClassifier(random_state=42)"
      ]
     },
     "execution_count": 48,
     "metadata": {},
     "output_type": "execute_result"
    }
   ],
   "source": [
    "from sklearn.linear_model import SGDClassifier\n",
    "\n",
    "sgd_clf = SGDClassifier(random_state=42)\n",
    "sgd_clf.fit(X_train, y_train)\n"
   ]
  },
  {
   "cell_type": "code",
   "execution_count": 52,
   "metadata": {
    "colab": {
     "base_uri": "https://localhost:8080/"
    },
    "id": "Oi_8JmfEx_WV",
    "outputId": "d353e47d-39b9-4758-a041-3639fb9d34f8"
   },
   "outputs": [
    {
     "data": {
      "text/plain": [
       "0.96"
      ]
     },
     "execution_count": 52,
     "metadata": {},
     "output_type": "execute_result"
    }
   ],
   "source": [
    "accuracy_sgd_clf = accuracy_score(y_test, y_pred)\n",
    "accuracy_sgd_clf.round(2)"
   ]
  },
  {
   "cell_type": "code",
   "execution_count": 53,
   "metadata": {
    "id": "B-8puGFGyL9j"
   },
   "outputs": [],
   "source": [
    "sgd_clf_pca = sgd_clf.fit(X_reduced, y_train)"
   ]
  },
  {
   "cell_type": "code",
   "execution_count": 54,
   "metadata": {
    "id": "P4REz1l9yV7U"
   },
   "outputs": [],
   "source": [
    "y_pred_pca = sgd_clf.predict(X_test_reduced)"
   ]
  },
  {
   "cell_type": "code",
   "execution_count": 55,
   "metadata": {
    "colab": {
     "base_uri": "https://localhost:8080/"
    },
    "id": "UkXgzLciyaon",
    "outputId": "c98d9874-63d6-4532-9d23-f7feb0452951"
   },
   "outputs": [
    {
     "data": {
      "text/plain": [
       "0.7"
      ]
     },
     "execution_count": 55,
     "metadata": {},
     "output_type": "execute_result"
    }
   ],
   "source": [
    "accuracy_sgd_clf_pca = accuracy_score(y_test, y_pred_pca)\n",
    "accuracy_sgd_clf_pca.round(2) #the accuracy with pca is less than the accuracy of model without pca"
   ]
  },
  {
   "cell_type": "markdown",
   "metadata": {
    "id": "Wv9WaoZKz3hl"
   },
   "source": [
    "# Decision Tree "
   ]
  },
  {
   "cell_type": "code",
   "execution_count": 57,
   "metadata": {
    "id": "WEYfojYty3g7"
   },
   "outputs": [],
   "source": [
    "from sklearn.tree import DecisionTreeClassifier\n",
    "from sklearn.model_selection import GridSearchCV\n",
    "\n",
    "params = {'max_leaf_nodes': list(range(2, 100)), 'max_depth': list(range(1, 7)), 'min_samples_split': [2, 3, 4]}\n",
    "grid_search_DT = GridSearchCV(DecisionTreeClassifier(random_state=42), params, cv=3)"
   ]
  },
  {
   "cell_type": "code",
   "execution_count": 58,
   "metadata": {
    "colab": {
     "base_uri": "https://localhost:8080/"
    },
    "id": "KH1wHDeBzMdC",
    "outputId": "5cc4fe67-e469-4c8a-ca44-386aa3c0ae2e"
   },
   "outputs": [
    {
     "data": {
      "text/plain": [
       "GridSearchCV(cv=3, estimator=DecisionTreeClassifier(random_state=42),\n",
       "             param_grid={'max_depth': [1, 2, 3, 4, 5, 6],\n",
       "                         'max_leaf_nodes': [2, 3, 4, 5, 6, 7, 8, 9, 10, 11, 12,\n",
       "                                            13, 14, 15, 16, 17, 18, 19, 20, 21,\n",
       "                                            22, 23, 24, 25, 26, 27, 28, 29, 30,\n",
       "                                            31, ...],\n",
       "                         'min_samples_split': [2, 3, 4]})"
      ]
     },
     "execution_count": 58,
     "metadata": {},
     "output_type": "execute_result"
    }
   ],
   "source": [
    "grid_search_DT.fit(X_train, y_train)"
   ]
  },
  {
   "cell_type": "code",
   "execution_count": 59,
   "metadata": {
    "id": "fwS18kW8zZVR"
   },
   "outputs": [],
   "source": [
    "y_pred = grid_search_DT.best_estimator_.predict(X_test)"
   ]
  },
  {
   "cell_type": "code",
   "execution_count": 61,
   "metadata": {
    "colab": {
     "base_uri": "https://localhost:8080/"
    },
    "id": "BK61SENWzg0p",
    "outputId": "a24817d1-22b8-439c-f730-4bdce50120ef"
   },
   "outputs": [
    {
     "data": {
      "text/plain": [
       "0.99"
      ]
     },
     "execution_count": 61,
     "metadata": {},
     "output_type": "execute_result"
    }
   ],
   "source": [
    "accuracy_grid_search_DT = accuracy_score(y_test, y_pred)\n",
    "accuracy_grid_search_DT.round(2)"
   ]
  },
  {
   "cell_type": "code",
   "execution_count": 62,
   "metadata": {
    "colab": {
     "base_uri": "https://localhost:8080/"
    },
    "id": "xinV7-Gzz9vx",
    "outputId": "96bcf5be-d392-4219-cc3d-6cd001a53a32"
   },
   "outputs": [
    {
     "data": {
      "text/plain": [
       "GridSearchCV(cv=3, estimator=DecisionTreeClassifier(random_state=42),\n",
       "             param_grid={'max_depth': [1, 2, 3, 4, 5, 6],\n",
       "                         'max_leaf_nodes': [2, 3, 4, 5, 6, 7, 8, 9, 10, 11, 12,\n",
       "                                            13, 14, 15, 16, 17, 18, 19, 20, 21,\n",
       "                                            22, 23, 24, 25, 26, 27, 28, 29, 30,\n",
       "                                            31, ...],\n",
       "                         'min_samples_split': [2, 3, 4]})"
      ]
     },
     "execution_count": 62,
     "metadata": {},
     "output_type": "execute_result"
    }
   ],
   "source": [
    "grid_search_DT.fit(X_reduced, y_train)"
   ]
  },
  {
   "cell_type": "code",
   "execution_count": 63,
   "metadata": {
    "id": "G8sFnfBd0MZx"
   },
   "outputs": [],
   "source": [
    "y_pred_pca = grid_search_DT.best_estimator_.predict(X_test_reduced)"
   ]
  },
  {
   "cell_type": "code",
   "execution_count": 64,
   "metadata": {
    "colab": {
     "base_uri": "https://localhost:8080/"
    },
    "id": "COnAlYxw0Xph",
    "outputId": "b5596404-218f-438c-fa6f-b871e8adaf78"
   },
   "outputs": [
    {
     "data": {
      "text/plain": [
       "0.76"
      ]
     },
     "execution_count": 64,
     "metadata": {},
     "output_type": "execute_result"
    }
   ],
   "source": [
    "accuracy_grid_search_DT = accuracy_score(y_test, y_pred_pca)\n",
    "accuracy_grid_search_DT.round(2) "
   ]
  },
  {
   "cell_type": "code",
   "execution_count": null,
   "metadata": {
    "id": "1I-GRFJb1aO6"
   },
   "outputs": [],
   "source": [
    "# the accuracy of models decreases with pca but it makes them more simple and decreases their complexity "
   ]
  },
  {
   "cell_type": "markdown",
   "metadata": {
    "id": "TPInu-qr35rP"
   },
   "source": [
    "# Voting Classifier"
   ]
  },
  {
   "cell_type": "code",
   "execution_count": 88,
   "metadata": {
    "colab": {
     "base_uri": "https://localhost:8080/"
    },
    "id": "raGPJfHo0dL8",
    "outputId": "d24e3161-1f59-4296-ce60-db29985bbbc0"
   },
   "outputs": [
    {
     "name": "stdout",
     "output_type": "stream",
     "text": [
      "Training the Pipeline(steps=[('standardscaler', StandardScaler()),\n",
      "                ('svc', SVC(random_state=42))])\n",
      "Training the KNeighborsClassifier(n_neighbors=3)\n",
      "Training the RandomForestClassifier(max_leaf_nodes=16, n_estimators=500, n_jobs=-1,\n",
      "                       random_state=42)\n",
      "Training the SGDClassifier(random_state=42)\n",
      "Training the GridSearchCV(cv=3, estimator=DecisionTreeClassifier(random_state=42),\n",
      "             param_grid={'max_depth': [1, 2, 3, 4, 5, 6],\n",
      "                         'max_leaf_nodes': [2, 3, 4, 5, 6, 7, 8, 9, 10, 11, 12,\n",
      "                                            13, 14, 15, 16, 17, 18, 19, 20, 21,\n",
      "                                            22, 23, 24, 25, 26, 27, 28, 29, 30,\n",
      "                                            31, ...],\n",
      "                         'min_samples_split': [2, 3, 4]})\n"
     ]
    }
   ],
   "source": [
    "from sklearn.ensemble import VotingClassifier\n",
    "\n",
    "estimators = [svm_clf, knn_clf, rnd_clf, sgd_clf, grid_search_DT]\n",
    "for estimator in estimators:\n",
    "    print(\"Training the\", estimator)\n",
    "    estimator.fit(X_train, y_train)"
   ]
  },
  {
   "cell_type": "code",
   "execution_count": 89,
   "metadata": {
    "colab": {
     "base_uri": "https://localhost:8080/"
    },
    "id": "xWj9LsI71KP3",
    "outputId": "ef4c9822-840b-49ce-d1d8-3eeed7e9413a"
   },
   "outputs": [
    {
     "data": {
      "text/plain": [
       "[0.9864864864864865,\n",
       " 0.8513513513513513,\n",
       " 0.9864864864864865,\n",
       " 0.9594594594594594,\n",
       " 0.9864864864864865]"
      ]
     },
     "execution_count": 89,
     "metadata": {},
     "output_type": "execute_result"
    }
   ],
   "source": [
    "[estimator.score(X_test, y_test) for estimator in estimators]"
   ]
  },
  {
   "cell_type": "code",
   "execution_count": 90,
   "metadata": {
    "colab": {
     "base_uri": "https://localhost:8080/"
    },
    "id": "G816s8tj1uDg",
    "outputId": "414a6709-5d77-4cb7-99bc-147cbf5d49ce"
   },
   "outputs": [
    {
     "data": {
      "text/plain": [
       "VotingClassifier(estimators=[('svc_clf',\n",
       "                              Pipeline(steps=[('standardscaler',\n",
       "                                               StandardScaler()),\n",
       "                                              ('svc', SVC(random_state=42))])),\n",
       "                             ('knn_clf', KNeighborsClassifier(n_neighbors=3)),\n",
       "                             ('random_forest_clf',\n",
       "                              RandomForestClassifier(max_leaf_nodes=16,\n",
       "                                                     n_estimators=500,\n",
       "                                                     n_jobs=-1,\n",
       "                                                     random_state=42)),\n",
       "                             ('stochastic_dg_clf',\n",
       "                              SGDClassifier(random_state=42)),\n",
       "                             ('decision_tree_clf',\n",
       "                              GridSearchCV(cv=3,\n",
       "                                           estimator=DecisionTreeClassifier(random_state=42),\n",
       "                                           param_grid={'max_depth': [1, 2, 3, 4,\n",
       "                                                                     5, 6],\n",
       "                                                       'max_leaf_nodes': [2, 3,\n",
       "                                                                          4, 5,\n",
       "                                                                          6, 7,\n",
       "                                                                          8, 9,\n",
       "                                                                          10,\n",
       "                                                                          11,\n",
       "                                                                          12,\n",
       "                                                                          13,\n",
       "                                                                          14,\n",
       "                                                                          15,\n",
       "                                                                          16,\n",
       "                                                                          17,\n",
       "                                                                          18,\n",
       "                                                                          19,\n",
       "                                                                          20,\n",
       "                                                                          21,\n",
       "                                                                          22,\n",
       "                                                                          23,\n",
       "                                                                          24,\n",
       "                                                                          25,\n",
       "                                                                          26,\n",
       "                                                                          27,\n",
       "                                                                          28,\n",
       "                                                                          29,\n",
       "                                                                          30,\n",
       "                                                                          31, ...],\n",
       "                                                       'min_samples_split': [2,\n",
       "                                                                             3,\n",
       "                                                                             4]}))])"
      ]
     },
     "execution_count": 90,
     "metadata": {},
     "output_type": "execute_result"
    }
   ],
   "source": [
    "named_estimators = [(\"svc_clf\", svm_clf), (\"knn_clf\", knn_clf), (\"random_forest_clf\", rnd_clf), \n",
    "                    (\"stochastic_dg_clf\", sgd_clf), (\"decision_tree_clf\", grid_search_DT)]\n",
    "\n",
    "voting_clf = VotingClassifier(named_estimators)\n",
    "voting_clf.fit(X_train, y_train)"
   ]
  },
  {
   "cell_type": "code",
   "execution_count": 91,
   "metadata": {
    "colab": {
     "base_uri": "https://localhost:8080/"
    },
    "id": "hc70XlEo2n5G",
    "outputId": "29e03018-b897-47fd-876f-735e3ea51d1a"
   },
   "outputs": [
    {
     "data": {
      "text/plain": [
       "0.9864864864864865"
      ]
     },
     "execution_count": 91,
     "metadata": {},
     "output_type": "execute_result"
    }
   ],
   "source": [
    "voting_clf.score(X_test, y_test) #voting works well on this dataset"
   ]
  },
  {
   "cell_type": "markdown",
   "metadata": {
    "id": "gZzVAkAB9ny6"
   },
   "source": [
    "# Stacking"
   ]
  },
  {
   "cell_type": "code",
   "execution_count": 84,
   "metadata": {
    "colab": {
     "base_uri": "https://localhost:8080/"
    },
    "id": "O-Hy0cWH3xQU",
    "outputId": "e15f4a85-c89d-4329-fd4e-0581c9b81458"
   },
   "outputs": [
    {
     "data": {
      "text/plain": [
       "StackingClassifier(cv=5,\n",
       "                   estimators=[('svc_clf',\n",
       "                                Pipeline(steps=[('standardscaler',\n",
       "                                                 StandardScaler()),\n",
       "                                                ('svc',\n",
       "                                                 SVC(random_state=42))])),\n",
       "                               ('knn_clf', KNeighborsClassifier(n_neighbors=3)),\n",
       "                               ('random_forest_clf',\n",
       "                                RandomForestClassifier(max_leaf_nodes=16,\n",
       "                                                       n_estimators=500,\n",
       "                                                       n_jobs=-1,\n",
       "                                                       random_state=42)),\n",
       "                               ('stochastic_dg_clf',\n",
       "                                SGDClassifier(random_state=42)),\n",
       "                               ('decision_tree_clf',\n",
       "                                GridSearchCV(cv=3,\n",
       "                                             estimator=DecisionTreeClassifier(random_state=42),\n",
       "                                             param_grid={'max_depth': [1, 2, 3,\n",
       "                                                                       4, 5,\n",
       "                                                                       6],\n",
       "                                                         'max_leaf_nodes': [2,\n",
       "                                                                            3,\n",
       "                                                                            4,\n",
       "                                                                            5,\n",
       "                                                                            6,\n",
       "                                                                            7,\n",
       "                                                                            8,\n",
       "                                                                            9,\n",
       "                                                                            10,\n",
       "                                                                            11,\n",
       "                                                                            12,\n",
       "                                                                            13,\n",
       "                                                                            14,\n",
       "                                                                            15,\n",
       "                                                                            16,\n",
       "                                                                            17,\n",
       "                                                                            18,\n",
       "                                                                            19,\n",
       "                                                                            20,\n",
       "                                                                            21,\n",
       "                                                                            22,\n",
       "                                                                            23,\n",
       "                                                                            24,\n",
       "                                                                            25,\n",
       "                                                                            26,\n",
       "                                                                            27,\n",
       "                                                                            28,\n",
       "                                                                            29,\n",
       "                                                                            30,\n",
       "                                                                            31, ...],\n",
       "                                                         'min_samples_split': [2,\n",
       "                                                                               3,\n",
       "                                                                               4]}))],\n",
       "                   final_estimator=Pipeline(steps=[('standardscaler',\n",
       "                                                    StandardScaler()),\n",
       "                                                   ('svc',\n",
       "                                                    SVC(random_state=42))]))"
      ]
     },
     "execution_count": 84,
     "metadata": {},
     "output_type": "execute_result"
    }
   ],
   "source": [
    "from sklearn.ensemble import StackingClassifier\n",
    "\n",
    "stacking_clf = StackingClassifier(estimators = named_estimators, \n",
    "                                  final_estimator = svm_clf, cv=5)\n",
    "stacking_clf.fit(X_train, y_train)"
   ]
  },
  {
   "cell_type": "code",
   "execution_count": 85,
   "metadata": {
    "colab": {
     "base_uri": "https://localhost:8080/"
    },
    "id": "GShTVvi-5aQD",
    "outputId": "e7e9d168-6963-4ad9-f4f4-20772ffb6ca3"
   },
   "outputs": [
    {
     "data": {
      "text/plain": [
       "1.0"
      ]
     },
     "execution_count": 85,
     "metadata": {},
     "output_type": "execute_result"
    }
   ],
   "source": [
    "stacking_clf.score(X_test, y_test) #this problem with stacking and SVC for final estimator, gives us the best accuracy"
   ]
  },
  {
   "cell_type": "code",
   "execution_count": null,
   "metadata": {
    "id": "oJ3VxJRo48ia"
   },
   "outputs": [],
   "source": []
  }
 ],
 "metadata": {
  "colab": {
   "collapsed_sections": [],
   "name": "dermatology_exam.ipynb",
   "provenance": []
  },
  "kernelspec": {
   "display_name": "Python 3 (ipykernel)",
   "language": "python",
   "name": "python3"
  },
  "language_info": {
   "codemirror_mode": {
    "name": "ipython",
    "version": 3
   },
   "file_extension": ".py",
   "mimetype": "text/x-python",
   "name": "python",
   "nbconvert_exporter": "python",
   "pygments_lexer": "ipython3",
   "version": "3.10.4"
  }
 },
 "nbformat": 4,
 "nbformat_minor": 1
}
